{
  "nbformat": 4,
  "nbformat_minor": 0,
  "metadata": {
    "colab": {
      "name": "EDA.ipynb",
      "provenance": [],
      "collapsed_sections": []
    },
    "kernelspec": {
      "name": "python3",
      "display_name": "Python 3"
    },
    "language_info": {
      "name": "python"
    }
  },
  "cells": [
    {
      "cell_type": "code",
      "execution_count": 1,
      "metadata": {
        "colab": {
          "base_uri": "https://localhost:8080/"
        },
        "id": "t8SHi_WAM5e-",
        "outputId": "d752be07-4b2a-488a-8b38-0af82b922c04"
      },
      "outputs": [
        {
          "output_type": "stream",
          "name": "stdout",
          "text": [
            "Drive already mounted at /content/drive/; to attempt to forcibly remount, call drive.mount(\"/content/drive/\", force_remount=True).\n"
          ]
        }
      ],
      "source": [
        "from google.colab import drive\n",
        "drive.mount('/content/drive/')"
      ]
    },
    {
      "cell_type": "code",
      "source": [
        "import numpy as np\n",
        "import pandas as pd\n",
        "import seaborn as sns\n",
        "import matplotlib.pyplot as plt\n",
        "sns.set_style('whitegrid')\n",
        "pd.options.mode.chained_assignment = None\n",
        "%matplotlib inline"
      ],
      "metadata": {
        "id": "75D4p7E_NPzL"
      },
      "execution_count": 2,
      "outputs": []
    },
    {
      "cell_type": "code",
      "source": [
        "data = pd.read_csv('/content/drive/MyDrive/train.csv')"
      ],
      "metadata": {
        "id": "XWCiir1kNdPJ"
      },
      "execution_count": 3,
      "outputs": []
    },
    {
      "cell_type": "code",
      "source": [
        "data.head()"
      ],
      "metadata": {
        "colab": {
          "base_uri": "https://localhost:8080/",
          "height": 582
        },
        "id": "7dwPLgxwPLiq",
        "outputId": "b7bcc351-aefd-4ca5-e42f-a8a77bd16c73"
      },
      "execution_count": 4,
      "outputs": [
        {
          "output_type": "execute_result",
          "data": {
            "text/html": [
              "\n",
              "  <div id=\"df-a92d54ca-b84b-4329-ad80-e90cd0c0344f\">\n",
              "    <div class=\"colab-df-container\">\n",
              "      <div>\n",
              "<style scoped>\n",
              "    .dataframe tbody tr th:only-of-type {\n",
              "        vertical-align: middle;\n",
              "    }\n",
              "\n",
              "    .dataframe tbody tr th {\n",
              "        vertical-align: top;\n",
              "    }\n",
              "\n",
              "    .dataframe thead th {\n",
              "        text-align: right;\n",
              "    }\n",
              "</style>\n",
              "<table border=\"1\" class=\"dataframe\">\n",
              "  <thead>\n",
              "    <tr style=\"text-align: right;\">\n",
              "      <th></th>\n",
              "      <th>id</th>\n",
              "      <th>protected</th>\n",
              "      <th>Title</th>\n",
              "      <th>Company</th>\n",
              "      <th>Location</th>\n",
              "      <th>Duration</th>\n",
              "      <th>Stipend_per_month</th>\n",
              "      <th>Apply By</th>\n",
              "      <th>Applicants</th>\n",
              "      <th>Skills Required</th>\n",
              "      <th>Perks</th>\n",
              "      <th>Number of Openings</th>\n",
              "      <th>Incentives</th>\n",
              "      <th>Category</th>\n",
              "    </tr>\n",
              "  </thead>\n",
              "  <tbody>\n",
              "    <tr>\n",
              "      <th>0</th>\n",
              "      <td>1</td>\n",
              "      <td>54622</td>\n",
              "      <td>Accounts</td>\n",
              "      <td>Cytomol Labs</td>\n",
              "      <td>Secunderabad</td>\n",
              "      <td>6.0</td>\n",
              "      <td>8000</td>\n",
              "      <td>31 Jan' 22</td>\n",
              "      <td>33 applicants</td>\n",
              "      <td>Accounting , Tally ,</td>\n",
              "      <td>NaN</td>\n",
              "      <td>1</td>\n",
              "      <td>0</td>\n",
              "      <td>Commerce</td>\n",
              "    </tr>\n",
              "    <tr>\n",
              "      <th>1</th>\n",
              "      <td>2</td>\n",
              "      <td>27305950</td>\n",
              "      <td>Graphic Design</td>\n",
              "      <td>Varistor Solar</td>\n",
              "      <td>Ajmer</td>\n",
              "      <td>6.0</td>\n",
              "      <td>6000</td>\n",
              "      <td>5 Feb' 22</td>\n",
              "      <td>Be an early applicant</td>\n",
              "      <td>Adobe Photoshop ,</td>\n",
              "      <td>Certificate , Letter of recommendation , Flexi...</td>\n",
              "      <td>2</td>\n",
              "      <td>0</td>\n",
              "      <td>Graphic Design</td>\n",
              "    </tr>\n",
              "    <tr>\n",
              "      <th>2</th>\n",
              "      <td>3</td>\n",
              "      <td>22681506</td>\n",
              "      <td>Graphic Design</td>\n",
              "      <td>Rugas Technologies Private Limited</td>\n",
              "      <td>Work From Home</td>\n",
              "      <td>2.0</td>\n",
              "      <td>15000</td>\n",
              "      <td>10 Feb' 22</td>\n",
              "      <td>48 applicants</td>\n",
              "      <td>Adobe Photoshop , Adobe XD , CSS , Figma , HTM...</td>\n",
              "      <td>Certificate , Flexible work hours ,</td>\n",
              "      <td>1</td>\n",
              "      <td>0</td>\n",
              "      <td>Graphic Design</td>\n",
              "    </tr>\n",
              "    <tr>\n",
              "      <th>3</th>\n",
              "      <td>4</td>\n",
              "      <td>57706912</td>\n",
              "      <td>Marketing</td>\n",
              "      <td>Glamanand Entertainment</td>\n",
              "      <td>Work From Home</td>\n",
              "      <td>4.0</td>\n",
              "      <td>5000</td>\n",
              "      <td>7 Feb' 22</td>\n",
              "      <td>53 applicants</td>\n",
              "      <td>English Proficiency (Spoken) , English Profici...</td>\n",
              "      <td>Certificate , Letter of recommendation , Flexi...</td>\n",
              "      <td>6</td>\n",
              "      <td>0</td>\n",
              "      <td>Marketing</td>\n",
              "    </tr>\n",
              "    <tr>\n",
              "      <th>4</th>\n",
              "      <td>5</td>\n",
              "      <td>43990</td>\n",
              "      <td>Accounts</td>\n",
              "      <td>SocialWell</td>\n",
              "      <td>Bhubaneswar</td>\n",
              "      <td>6.0</td>\n",
              "      <td>6000</td>\n",
              "      <td>3 Feb' 22</td>\n",
              "      <td>Be an early applicant</td>\n",
              "      <td>Accounting ,</td>\n",
              "      <td>Certificate , Informal dress code ,</td>\n",
              "      <td>1</td>\n",
              "      <td>0</td>\n",
              "      <td>Commerce</td>\n",
              "    </tr>\n",
              "  </tbody>\n",
              "</table>\n",
              "</div>\n",
              "      <button class=\"colab-df-convert\" onclick=\"convertToInteractive('df-a92d54ca-b84b-4329-ad80-e90cd0c0344f')\"\n",
              "              title=\"Convert this dataframe to an interactive table.\"\n",
              "              style=\"display:none;\">\n",
              "        \n",
              "  <svg xmlns=\"http://www.w3.org/2000/svg\" height=\"24px\"viewBox=\"0 0 24 24\"\n",
              "       width=\"24px\">\n",
              "    <path d=\"M0 0h24v24H0V0z\" fill=\"none\"/>\n",
              "    <path d=\"M18.56 5.44l.94 2.06.94-2.06 2.06-.94-2.06-.94-.94-2.06-.94 2.06-2.06.94zm-11 1L8.5 8.5l.94-2.06 2.06-.94-2.06-.94L8.5 2.5l-.94 2.06-2.06.94zm10 10l.94 2.06.94-2.06 2.06-.94-2.06-.94-.94-2.06-.94 2.06-2.06.94z\"/><path d=\"M17.41 7.96l-1.37-1.37c-.4-.4-.92-.59-1.43-.59-.52 0-1.04.2-1.43.59L10.3 9.45l-7.72 7.72c-.78.78-.78 2.05 0 2.83L4 21.41c.39.39.9.59 1.41.59.51 0 1.02-.2 1.41-.59l7.78-7.78 2.81-2.81c.8-.78.8-2.07 0-2.86zM5.41 20L4 18.59l7.72-7.72 1.47 1.35L5.41 20z\"/>\n",
              "  </svg>\n",
              "      </button>\n",
              "      \n",
              "  <style>\n",
              "    .colab-df-container {\n",
              "      display:flex;\n",
              "      flex-wrap:wrap;\n",
              "      gap: 12px;\n",
              "    }\n",
              "\n",
              "    .colab-df-convert {\n",
              "      background-color: #E8F0FE;\n",
              "      border: none;\n",
              "      border-radius: 50%;\n",
              "      cursor: pointer;\n",
              "      display: none;\n",
              "      fill: #1967D2;\n",
              "      height: 32px;\n",
              "      padding: 0 0 0 0;\n",
              "      width: 32px;\n",
              "    }\n",
              "\n",
              "    .colab-df-convert:hover {\n",
              "      background-color: #E2EBFA;\n",
              "      box-shadow: 0px 1px 2px rgba(60, 64, 67, 0.3), 0px 1px 3px 1px rgba(60, 64, 67, 0.15);\n",
              "      fill: #174EA6;\n",
              "    }\n",
              "\n",
              "    [theme=dark] .colab-df-convert {\n",
              "      background-color: #3B4455;\n",
              "      fill: #D2E3FC;\n",
              "    }\n",
              "\n",
              "    [theme=dark] .colab-df-convert:hover {\n",
              "      background-color: #434B5C;\n",
              "      box-shadow: 0px 1px 3px 1px rgba(0, 0, 0, 0.15);\n",
              "      filter: drop-shadow(0px 1px 2px rgba(0, 0, 0, 0.3));\n",
              "      fill: #FFFFFF;\n",
              "    }\n",
              "  </style>\n",
              "\n",
              "      <script>\n",
              "        const buttonEl =\n",
              "          document.querySelector('#df-a92d54ca-b84b-4329-ad80-e90cd0c0344f button.colab-df-convert');\n",
              "        buttonEl.style.display =\n",
              "          google.colab.kernel.accessAllowed ? 'block' : 'none';\n",
              "\n",
              "        async function convertToInteractive(key) {\n",
              "          const element = document.querySelector('#df-a92d54ca-b84b-4329-ad80-e90cd0c0344f');\n",
              "          const dataTable =\n",
              "            await google.colab.kernel.invokeFunction('convertToInteractive',\n",
              "                                                     [key], {});\n",
              "          if (!dataTable) return;\n",
              "\n",
              "          const docLinkHtml = 'Like what you see? Visit the ' +\n",
              "            '<a target=\"_blank\" href=https://colab.research.google.com/notebooks/data_table.ipynb>data table notebook</a>'\n",
              "            + ' to learn more about interactive tables.';\n",
              "          element.innerHTML = '';\n",
              "          dataTable['output_type'] = 'display_data';\n",
              "          await google.colab.output.renderOutput(dataTable, element);\n",
              "          const docLink = document.createElement('div');\n",
              "          docLink.innerHTML = docLinkHtml;\n",
              "          element.appendChild(docLink);\n",
              "        }\n",
              "      </script>\n",
              "    </div>\n",
              "  </div>\n",
              "  "
            ],
            "text/plain": [
              "   id  protected  ... Incentives        Category\n",
              "0   1      54622  ...          0        Commerce\n",
              "1   2   27305950  ...          0  Graphic Design\n",
              "2   3   22681506  ...          0  Graphic Design\n",
              "3   4   57706912  ...          0       Marketing\n",
              "4   5      43990  ...          0        Commerce\n",
              "\n",
              "[5 rows x 14 columns]"
            ]
          },
          "metadata": {},
          "execution_count": 4
        }
      ]
    },
    {
      "cell_type": "code",
      "source": [
        "del data[\"id\"]\n",
        "del data[\"protected\"]\n",
        "data"
      ],
      "metadata": {
        "colab": {
          "base_uri": "https://localhost:8080/",
          "height": 1000
        },
        "id": "ii_YRFCYRhrU",
        "outputId": "2dd369de-93cd-4f3b-c2a5-b5a4ebfe9d15"
      },
      "execution_count": 5,
      "outputs": [
        {
          "output_type": "execute_result",
          "data": {
            "text/html": [
              "\n",
              "  <div id=\"df-02da4f9e-7795-44cb-a25c-ce1cb73aef43\">\n",
              "    <div class=\"colab-df-container\">\n",
              "      <div>\n",
              "<style scoped>\n",
              "    .dataframe tbody tr th:only-of-type {\n",
              "        vertical-align: middle;\n",
              "    }\n",
              "\n",
              "    .dataframe tbody tr th {\n",
              "        vertical-align: top;\n",
              "    }\n",
              "\n",
              "    .dataframe thead th {\n",
              "        text-align: right;\n",
              "    }\n",
              "</style>\n",
              "<table border=\"1\" class=\"dataframe\">\n",
              "  <thead>\n",
              "    <tr style=\"text-align: right;\">\n",
              "      <th></th>\n",
              "      <th>Title</th>\n",
              "      <th>Company</th>\n",
              "      <th>Location</th>\n",
              "      <th>Duration</th>\n",
              "      <th>Stipend_per_month</th>\n",
              "      <th>Apply By</th>\n",
              "      <th>Applicants</th>\n",
              "      <th>Skills Required</th>\n",
              "      <th>Perks</th>\n",
              "      <th>Number of Openings</th>\n",
              "      <th>Incentives</th>\n",
              "      <th>Category</th>\n",
              "    </tr>\n",
              "  </thead>\n",
              "  <tbody>\n",
              "    <tr>\n",
              "      <th>0</th>\n",
              "      <td>Accounts</td>\n",
              "      <td>Cytomol Labs</td>\n",
              "      <td>Secunderabad</td>\n",
              "      <td>6.0</td>\n",
              "      <td>8000</td>\n",
              "      <td>31 Jan' 22</td>\n",
              "      <td>33 applicants</td>\n",
              "      <td>Accounting , Tally ,</td>\n",
              "      <td>NaN</td>\n",
              "      <td>1</td>\n",
              "      <td>0</td>\n",
              "      <td>Commerce</td>\n",
              "    </tr>\n",
              "    <tr>\n",
              "      <th>1</th>\n",
              "      <td>Graphic Design</td>\n",
              "      <td>Varistor Solar</td>\n",
              "      <td>Ajmer</td>\n",
              "      <td>6.0</td>\n",
              "      <td>6000</td>\n",
              "      <td>5 Feb' 22</td>\n",
              "      <td>Be an early applicant</td>\n",
              "      <td>Adobe Photoshop ,</td>\n",
              "      <td>Certificate , Letter of recommendation , Flexi...</td>\n",
              "      <td>2</td>\n",
              "      <td>0</td>\n",
              "      <td>Graphic Design</td>\n",
              "    </tr>\n",
              "    <tr>\n",
              "      <th>2</th>\n",
              "      <td>Graphic Design</td>\n",
              "      <td>Rugas Technologies Private Limited</td>\n",
              "      <td>Work From Home</td>\n",
              "      <td>2.0</td>\n",
              "      <td>15000</td>\n",
              "      <td>10 Feb' 22</td>\n",
              "      <td>48 applicants</td>\n",
              "      <td>Adobe Photoshop , Adobe XD , CSS , Figma , HTM...</td>\n",
              "      <td>Certificate , Flexible work hours ,</td>\n",
              "      <td>1</td>\n",
              "      <td>0</td>\n",
              "      <td>Graphic Design</td>\n",
              "    </tr>\n",
              "    <tr>\n",
              "      <th>3</th>\n",
              "      <td>Marketing</td>\n",
              "      <td>Glamanand Entertainment</td>\n",
              "      <td>Work From Home</td>\n",
              "      <td>4.0</td>\n",
              "      <td>5000</td>\n",
              "      <td>7 Feb' 22</td>\n",
              "      <td>53 applicants</td>\n",
              "      <td>English Proficiency (Spoken) , English Profici...</td>\n",
              "      <td>Certificate , Letter of recommendation , Flexi...</td>\n",
              "      <td>6</td>\n",
              "      <td>0</td>\n",
              "      <td>Marketing</td>\n",
              "    </tr>\n",
              "    <tr>\n",
              "      <th>4</th>\n",
              "      <td>Accounts</td>\n",
              "      <td>SocialWell</td>\n",
              "      <td>Bhubaneswar</td>\n",
              "      <td>6.0</td>\n",
              "      <td>6000</td>\n",
              "      <td>3 Feb' 22</td>\n",
              "      <td>Be an early applicant</td>\n",
              "      <td>Accounting ,</td>\n",
              "      <td>Certificate , Informal dress code ,</td>\n",
              "      <td>1</td>\n",
              "      <td>0</td>\n",
              "      <td>Commerce</td>\n",
              "    </tr>\n",
              "    <tr>\n",
              "      <th>...</th>\n",
              "      <td>...</td>\n",
              "      <td>...</td>\n",
              "      <td>...</td>\n",
              "      <td>...</td>\n",
              "      <td>...</td>\n",
              "      <td>...</td>\n",
              "      <td>...</td>\n",
              "      <td>...</td>\n",
              "      <td>...</td>\n",
              "      <td>...</td>\n",
              "      <td>...</td>\n",
              "      <td>...</td>\n",
              "    </tr>\n",
              "    <tr>\n",
              "      <th>8513</th>\n",
              "      <td>The Young Conservationist Program</td>\n",
              "      <td>WWF-India</td>\n",
              "      <td>Work From Home</td>\n",
              "      <td>1.5</td>\n",
              "      <td>0</td>\n",
              "      <td>8 Feb' 22</td>\n",
              "      <td>60 applicants</td>\n",
              "      <td>Client Relationship , English Proficiency (Spo...</td>\n",
              "      <td>Certificate , Letter of recommendation , Flexi...</td>\n",
              "      <td>20</td>\n",
              "      <td>0</td>\n",
              "      <td>Volunteering</td>\n",
              "    </tr>\n",
              "    <tr>\n",
              "      <th>8514</th>\n",
              "      <td>Graphic Design</td>\n",
              "      <td>Emblix Solutions</td>\n",
              "      <td>Hyderabad</td>\n",
              "      <td>6.0</td>\n",
              "      <td>8000</td>\n",
              "      <td>5 Feb' 22</td>\n",
              "      <td>Be an early applicant</td>\n",
              "      <td>Adobe Illustrator , Adobe Photoshop , Adobe Ph...</td>\n",
              "      <td>Certificate , Letter of recommendation , Job o...</td>\n",
              "      <td>10</td>\n",
              "      <td>0</td>\n",
              "      <td>Graphic Design</td>\n",
              "    </tr>\n",
              "    <tr>\n",
              "      <th>8515</th>\n",
              "      <td>Illustration Design</td>\n",
              "      <td>Next Generation Skills Analytics And Testing P...</td>\n",
              "      <td>Work From Home</td>\n",
              "      <td>3.0</td>\n",
              "      <td>5000</td>\n",
              "      <td>3 Feb' 22</td>\n",
              "      <td>45 applicants</td>\n",
              "      <td>NaN</td>\n",
              "      <td>Certificate , Letter of recommendation , Flexi...</td>\n",
              "      <td>2</td>\n",
              "      <td>0</td>\n",
              "      <td>Graphic Design</td>\n",
              "    </tr>\n",
              "    <tr>\n",
              "      <th>8516</th>\n",
              "      <td>Unity 3D</td>\n",
              "      <td>CelebratingLife Infotech</td>\n",
              "      <td>Work From Home</td>\n",
              "      <td>3.0</td>\n",
              "      <td>4000</td>\n",
              "      <td>9 Feb' 22</td>\n",
              "      <td>Be an early applicant</td>\n",
              "      <td>Unity 3D , Unreal Engine ,</td>\n",
              "      <td>Certificate , Flexible work hours ,</td>\n",
              "      <td>2</td>\n",
              "      <td>0</td>\n",
              "      <td>Computer Science</td>\n",
              "    </tr>\n",
              "    <tr>\n",
              "      <th>8517</th>\n",
              "      <td>Business Development (Seasonings For Snacks In...</td>\n",
              "      <td>Namosri Ventures Private Limited</td>\n",
              "      <td>Work From Home</td>\n",
              "      <td>2.0</td>\n",
              "      <td>1000</td>\n",
              "      <td>9 Feb' 22</td>\n",
              "      <td>Be an early applicant</td>\n",
              "      <td>Digital Marketing , Email Marketing , English ...</td>\n",
              "      <td>Certificate , Letter of recommendation , Flexi...</td>\n",
              "      <td>1</td>\n",
              "      <td>1</td>\n",
              "      <td>Marketing</td>\n",
              "    </tr>\n",
              "  </tbody>\n",
              "</table>\n",
              "<p>8518 rows × 12 columns</p>\n",
              "</div>\n",
              "      <button class=\"colab-df-convert\" onclick=\"convertToInteractive('df-02da4f9e-7795-44cb-a25c-ce1cb73aef43')\"\n",
              "              title=\"Convert this dataframe to an interactive table.\"\n",
              "              style=\"display:none;\">\n",
              "        \n",
              "  <svg xmlns=\"http://www.w3.org/2000/svg\" height=\"24px\"viewBox=\"0 0 24 24\"\n",
              "       width=\"24px\">\n",
              "    <path d=\"M0 0h24v24H0V0z\" fill=\"none\"/>\n",
              "    <path d=\"M18.56 5.44l.94 2.06.94-2.06 2.06-.94-2.06-.94-.94-2.06-.94 2.06-2.06.94zm-11 1L8.5 8.5l.94-2.06 2.06-.94-2.06-.94L8.5 2.5l-.94 2.06-2.06.94zm10 10l.94 2.06.94-2.06 2.06-.94-2.06-.94-.94-2.06-.94 2.06-2.06.94z\"/><path d=\"M17.41 7.96l-1.37-1.37c-.4-.4-.92-.59-1.43-.59-.52 0-1.04.2-1.43.59L10.3 9.45l-7.72 7.72c-.78.78-.78 2.05 0 2.83L4 21.41c.39.39.9.59 1.41.59.51 0 1.02-.2 1.41-.59l7.78-7.78 2.81-2.81c.8-.78.8-2.07 0-2.86zM5.41 20L4 18.59l7.72-7.72 1.47 1.35L5.41 20z\"/>\n",
              "  </svg>\n",
              "      </button>\n",
              "      \n",
              "  <style>\n",
              "    .colab-df-container {\n",
              "      display:flex;\n",
              "      flex-wrap:wrap;\n",
              "      gap: 12px;\n",
              "    }\n",
              "\n",
              "    .colab-df-convert {\n",
              "      background-color: #E8F0FE;\n",
              "      border: none;\n",
              "      border-radius: 50%;\n",
              "      cursor: pointer;\n",
              "      display: none;\n",
              "      fill: #1967D2;\n",
              "      height: 32px;\n",
              "      padding: 0 0 0 0;\n",
              "      width: 32px;\n",
              "    }\n",
              "\n",
              "    .colab-df-convert:hover {\n",
              "      background-color: #E2EBFA;\n",
              "      box-shadow: 0px 1px 2px rgba(60, 64, 67, 0.3), 0px 1px 3px 1px rgba(60, 64, 67, 0.15);\n",
              "      fill: #174EA6;\n",
              "    }\n",
              "\n",
              "    [theme=dark] .colab-df-convert {\n",
              "      background-color: #3B4455;\n",
              "      fill: #D2E3FC;\n",
              "    }\n",
              "\n",
              "    [theme=dark] .colab-df-convert:hover {\n",
              "      background-color: #434B5C;\n",
              "      box-shadow: 0px 1px 3px 1px rgba(0, 0, 0, 0.15);\n",
              "      filter: drop-shadow(0px 1px 2px rgba(0, 0, 0, 0.3));\n",
              "      fill: #FFFFFF;\n",
              "    }\n",
              "  </style>\n",
              "\n",
              "      <script>\n",
              "        const buttonEl =\n",
              "          document.querySelector('#df-02da4f9e-7795-44cb-a25c-ce1cb73aef43 button.colab-df-convert');\n",
              "        buttonEl.style.display =\n",
              "          google.colab.kernel.accessAllowed ? 'block' : 'none';\n",
              "\n",
              "        async function convertToInteractive(key) {\n",
              "          const element = document.querySelector('#df-02da4f9e-7795-44cb-a25c-ce1cb73aef43');\n",
              "          const dataTable =\n",
              "            await google.colab.kernel.invokeFunction('convertToInteractive',\n",
              "                                                     [key], {});\n",
              "          if (!dataTable) return;\n",
              "\n",
              "          const docLinkHtml = 'Like what you see? Visit the ' +\n",
              "            '<a target=\"_blank\" href=https://colab.research.google.com/notebooks/data_table.ipynb>data table notebook</a>'\n",
              "            + ' to learn more about interactive tables.';\n",
              "          element.innerHTML = '';\n",
              "          dataTable['output_type'] = 'display_data';\n",
              "          await google.colab.output.renderOutput(dataTable, element);\n",
              "          const docLink = document.createElement('div');\n",
              "          docLink.innerHTML = docLinkHtml;\n",
              "          element.appendChild(docLink);\n",
              "        }\n",
              "      </script>\n",
              "    </div>\n",
              "  </div>\n",
              "  "
            ],
            "text/plain": [
              "                                                  Title  ...          Category\n",
              "0                                              Accounts  ...          Commerce\n",
              "1                                        Graphic Design  ...    Graphic Design\n",
              "2                                        Graphic Design  ...    Graphic Design\n",
              "3                                             Marketing  ...         Marketing\n",
              "4                                              Accounts  ...          Commerce\n",
              "...                                                 ...  ...               ...\n",
              "8513                  The Young Conservationist Program  ...      Volunteering\n",
              "8514                                     Graphic Design  ...    Graphic Design\n",
              "8515                                Illustration Design  ...    Graphic Design\n",
              "8516                                           Unity 3D  ...  Computer Science\n",
              "8517  Business Development (Seasonings For Snacks In...  ...         Marketing\n",
              "\n",
              "[8518 rows x 12 columns]"
            ]
          },
          "metadata": {},
          "execution_count": 5
        }
      ]
    },
    {
      "cell_type": "code",
      "source": [
        "print(data[\"Category\"].value_counts())"
      ],
      "metadata": {
        "colab": {
          "base_uri": "https://localhost:8080/"
        },
        "id": "8jcblt5yHysW",
        "outputId": "638e6225-d2a5-4f91-c7aa-123ddadd18ca"
      },
      "execution_count": 6,
      "outputs": [
        {
          "output_type": "stream",
          "name": "stdout",
          "text": [
            "Marketing           3172\n",
            "Computer Science    1845\n",
            "Content Writing     1192\n",
            "Graphic Design       882\n",
            "Human Resources      684\n",
            "Volunteering         177\n",
            "Commerce             118\n",
            "Science               86\n",
            "Mechanical            74\n",
            "Law                   67\n",
            "Finance               65\n",
            "Architecture          64\n",
            "Electronics           64\n",
            "Humanities            28\n",
            "Name: Category, dtype: int64\n"
          ]
        }
      ]
    },
    {
      "cell_type": "code",
      "source": [
        "data.info()"
      ],
      "metadata": {
        "colab": {
          "base_uri": "https://localhost:8080/"
        },
        "id": "1RLvP9lkPO1S",
        "outputId": "97e294bf-9287-412d-bd1b-8d1c91b64a37"
      },
      "execution_count": 7,
      "outputs": [
        {
          "output_type": "stream",
          "name": "stdout",
          "text": [
            "<class 'pandas.core.frame.DataFrame'>\n",
            "RangeIndex: 8518 entries, 0 to 8517\n",
            "Data columns (total 12 columns):\n",
            " #   Column              Non-Null Count  Dtype  \n",
            "---  ------              --------------  -----  \n",
            " 0   Title               8518 non-null   object \n",
            " 1   Company             8518 non-null   object \n",
            " 2   Location            8518 non-null   object \n",
            " 3   Duration            8518 non-null   float64\n",
            " 4   Stipend_per_month   8518 non-null   object \n",
            " 5   Apply By            8518 non-null   object \n",
            " 6   Applicants          8518 non-null   object \n",
            " 7   Skills Required     6412 non-null   object \n",
            " 8   Perks               8104 non-null   object \n",
            " 9   Number of Openings  8518 non-null   int64  \n",
            " 10  Incentives          8518 non-null   int64  \n",
            " 11  Category            8518 non-null   object \n",
            "dtypes: float64(1), int64(2), object(9)\n",
            "memory usage: 798.7+ KB\n"
          ]
        }
      ]
    },
    {
      "cell_type": "code",
      "source": [
        "data.Category.nunique()"
      ],
      "metadata": {
        "colab": {
          "base_uri": "https://localhost:8080/"
        },
        "id": "PJo6qS3Ze2ft",
        "outputId": "d782793b-80c8-4887-89fe-c62a9c267d63"
      },
      "execution_count": 8,
      "outputs": [
        {
          "output_type": "execute_result",
          "data": {
            "text/plain": [
              "14"
            ]
          },
          "metadata": {},
          "execution_count": 8
        }
      ]
    },
    {
      "cell_type": "code",
      "source": [
        "data[\"Stipend_per_month\"] = pd.to_numeric(pd.Series(data[\"Stipend_per_month\"]),errors='coerce')"
      ],
      "metadata": {
        "id": "OAyfUvpAPTrx"
      },
      "execution_count": 9,
      "outputs": []
    },
    {
      "cell_type": "code",
      "source": [
        "data.info()"
      ],
      "metadata": {
        "colab": {
          "base_uri": "https://localhost:8080/"
        },
        "id": "ptyAIzVWQBvB",
        "outputId": "cb8a8289-0399-485c-fa97-4428980e6f46"
      },
      "execution_count": 10,
      "outputs": [
        {
          "output_type": "stream",
          "name": "stdout",
          "text": [
            "<class 'pandas.core.frame.DataFrame'>\n",
            "RangeIndex: 8518 entries, 0 to 8517\n",
            "Data columns (total 12 columns):\n",
            " #   Column              Non-Null Count  Dtype  \n",
            "---  ------              --------------  -----  \n",
            " 0   Title               8518 non-null   object \n",
            " 1   Company             8518 non-null   object \n",
            " 2   Location            8518 non-null   object \n",
            " 3   Duration            8518 non-null   float64\n",
            " 4   Stipend_per_month   8460 non-null   float64\n",
            " 5   Apply By            8518 non-null   object \n",
            " 6   Applicants          8518 non-null   object \n",
            " 7   Skills Required     6412 non-null   object \n",
            " 8   Perks               8104 non-null   object \n",
            " 9   Number of Openings  8518 non-null   int64  \n",
            " 10  Incentives          8518 non-null   int64  \n",
            " 11  Category            8518 non-null   object \n",
            "dtypes: float64(2), int64(2), object(8)\n",
            "memory usage: 798.7+ KB\n"
          ]
        }
      ]
    },
    {
      "cell_type": "code",
      "source": [
        "data.shape\n"
      ],
      "metadata": {
        "colab": {
          "base_uri": "https://localhost:8080/"
        },
        "id": "W0l2zYQlQKdi",
        "outputId": "4b4cc63e-b108-4870-d7e7-b84f4fecb6af"
      },
      "execution_count": 11,
      "outputs": [
        {
          "output_type": "execute_result",
          "data": {
            "text/plain": [
              "(8518, 12)"
            ]
          },
          "metadata": {},
          "execution_count": 11
        }
      ]
    },
    {
      "cell_type": "code",
      "source": [
        "data.isnull().sum()"
      ],
      "metadata": {
        "colab": {
          "base_uri": "https://localhost:8080/"
        },
        "id": "BzQYWNDvVaFi",
        "outputId": "546af3df-bf3f-4f98-cc6c-b7afbe331224"
      },
      "execution_count": 12,
      "outputs": [
        {
          "output_type": "execute_result",
          "data": {
            "text/plain": [
              "Title                    0\n",
              "Company                  0\n",
              "Location                 0\n",
              "Duration                 0\n",
              "Stipend_per_month       58\n",
              "Apply By                 0\n",
              "Applicants               0\n",
              "Skills Required       2106\n",
              "Perks                  414\n",
              "Number of Openings       0\n",
              "Incentives               0\n",
              "Category                 0\n",
              "dtype: int64"
            ]
          },
          "metadata": {},
          "execution_count": 12
        }
      ]
    },
    {
      "cell_type": "code",
      "source": [
        "data[\"Stipend_per_month\"].fillna(value=data[\"Stipend_per_month\"].mean(),inplace = True)"
      ],
      "metadata": {
        "id": "qTiDn7xzSn8L"
      },
      "execution_count": 13,
      "outputs": []
    },
    {
      "cell_type": "code",
      "source": [
        "data[\"Skills Required\"].fillna(value = \"No Skills required\", inplace=True)\n",
        "data[\"Perks\"].fillna(value = \"No Perks provided\", inplace=True)"
      ],
      "metadata": {
        "id": "n2lqlmPTS6rS"
      },
      "execution_count": 14,
      "outputs": []
    },
    {
      "cell_type": "code",
      "source": [
        "data.isnull().sum()"
      ],
      "metadata": {
        "colab": {
          "base_uri": "https://localhost:8080/"
        },
        "id": "0H9dCkrnbYcp",
        "outputId": "c29eec2b-6316-44df-8a04-7ddd964db439"
      },
      "execution_count": 15,
      "outputs": [
        {
          "output_type": "execute_result",
          "data": {
            "text/plain": [
              "Title                 0\n",
              "Company               0\n",
              "Location              0\n",
              "Duration              0\n",
              "Stipend_per_month     0\n",
              "Apply By              0\n",
              "Applicants            0\n",
              "Skills Required       0\n",
              "Perks                 0\n",
              "Number of Openings    0\n",
              "Incentives            0\n",
              "Category              0\n",
              "dtype: int64"
            ]
          },
          "metadata": {},
          "execution_count": 15
        }
      ]
    },
    {
      "cell_type": "code",
      "source": [
        "from sklearn.preprocessing import LabelEncoder\n",
        "enc = LabelEncoder()\n",
        "data[\"Category\"]=enc.fit_transform(data[\"Category\"])"
      ],
      "metadata": {
        "id": "UUBcYvXO4BDz"
      },
      "execution_count": 16,
      "outputs": []
    },
    {
      "cell_type": "code",
      "source": [
        "data['Type of workplace']= data['Location'].apply(lambda a: 'In-Office' if a!='Work From Home' else a)"
      ],
      "metadata": {
        "id": "f_6bpDLybevn"
      },
      "execution_count": 17,
      "outputs": []
    },
    {
      "cell_type": "code",
      "source": [
        "a = [None]*data.shape[0]\n",
        "for i in range(data.shape[0]):\n",
        "   a[i] = len(data['Skills Required'].iloc[i].split(','))-1\n",
        "data['No of skills required'] = a"
      ],
      "metadata": {
        "id": "DBq0kFbZcEiV"
      },
      "execution_count": 18,
      "outputs": []
    },
    {
      "cell_type": "code",
      "source": [
        "a = [0]*data.shape[0]\n",
        "for i in range(data.shape[0]):\n",
        "    a[i]=len(data['Perks'].iloc[i].split(','))-1\n",
        "data['No. of Perks']= a "
      ],
      "metadata": {
        "id": "JJWdH65kczGi"
      },
      "execution_count": 19,
      "outputs": []
    },
    {
      "cell_type": "code",
      "source": [
        "del data[\"Skills Required\"]\n",
        "del data[\"Perks\"]\n",
        "data.head()"
      ],
      "metadata": {
        "colab": {
          "base_uri": "https://localhost:8080/",
          "height": 444
        },
        "id": "6GNHjZJbS3YC",
        "outputId": "e2b48046-38b0-43d5-da67-ca6325a7942c"
      },
      "execution_count": 20,
      "outputs": [
        {
          "output_type": "execute_result",
          "data": {
            "text/html": [
              "\n",
              "  <div id=\"df-c7eea70b-e849-4abe-8761-252c1815d33d\">\n",
              "    <div class=\"colab-df-container\">\n",
              "      <div>\n",
              "<style scoped>\n",
              "    .dataframe tbody tr th:only-of-type {\n",
              "        vertical-align: middle;\n",
              "    }\n",
              "\n",
              "    .dataframe tbody tr th {\n",
              "        vertical-align: top;\n",
              "    }\n",
              "\n",
              "    .dataframe thead th {\n",
              "        text-align: right;\n",
              "    }\n",
              "</style>\n",
              "<table border=\"1\" class=\"dataframe\">\n",
              "  <thead>\n",
              "    <tr style=\"text-align: right;\">\n",
              "      <th></th>\n",
              "      <th>Title</th>\n",
              "      <th>Company</th>\n",
              "      <th>Location</th>\n",
              "      <th>Duration</th>\n",
              "      <th>Stipend_per_month</th>\n",
              "      <th>Apply By</th>\n",
              "      <th>Applicants</th>\n",
              "      <th>Number of Openings</th>\n",
              "      <th>Incentives</th>\n",
              "      <th>Category</th>\n",
              "      <th>Type of workplace</th>\n",
              "      <th>No of skills required</th>\n",
              "      <th>No. of Perks</th>\n",
              "    </tr>\n",
              "  </thead>\n",
              "  <tbody>\n",
              "    <tr>\n",
              "      <th>0</th>\n",
              "      <td>Accounts</td>\n",
              "      <td>Cytomol Labs</td>\n",
              "      <td>Secunderabad</td>\n",
              "      <td>6.0</td>\n",
              "      <td>8000.0</td>\n",
              "      <td>31 Jan' 22</td>\n",
              "      <td>33 applicants</td>\n",
              "      <td>1</td>\n",
              "      <td>0</td>\n",
              "      <td>1</td>\n",
              "      <td>In-Office</td>\n",
              "      <td>2</td>\n",
              "      <td>0</td>\n",
              "    </tr>\n",
              "    <tr>\n",
              "      <th>1</th>\n",
              "      <td>Graphic Design</td>\n",
              "      <td>Varistor Solar</td>\n",
              "      <td>Ajmer</td>\n",
              "      <td>6.0</td>\n",
              "      <td>6000.0</td>\n",
              "      <td>5 Feb' 22</td>\n",
              "      <td>Be an early applicant</td>\n",
              "      <td>2</td>\n",
              "      <td>0</td>\n",
              "      <td>6</td>\n",
              "      <td>In-Office</td>\n",
              "      <td>1</td>\n",
              "      <td>6</td>\n",
              "    </tr>\n",
              "    <tr>\n",
              "      <th>2</th>\n",
              "      <td>Graphic Design</td>\n",
              "      <td>Rugas Technologies Private Limited</td>\n",
              "      <td>Work From Home</td>\n",
              "      <td>2.0</td>\n",
              "      <td>15000.0</td>\n",
              "      <td>10 Feb' 22</td>\n",
              "      <td>48 applicants</td>\n",
              "      <td>1</td>\n",
              "      <td>0</td>\n",
              "      <td>6</td>\n",
              "      <td>Work From Home</td>\n",
              "      <td>6</td>\n",
              "      <td>2</td>\n",
              "    </tr>\n",
              "    <tr>\n",
              "      <th>3</th>\n",
              "      <td>Marketing</td>\n",
              "      <td>Glamanand Entertainment</td>\n",
              "      <td>Work From Home</td>\n",
              "      <td>4.0</td>\n",
              "      <td>5000.0</td>\n",
              "      <td>7 Feb' 22</td>\n",
              "      <td>53 applicants</td>\n",
              "      <td>6</td>\n",
              "      <td>0</td>\n",
              "      <td>10</td>\n",
              "      <td>Work From Home</td>\n",
              "      <td>2</td>\n",
              "      <td>5</td>\n",
              "    </tr>\n",
              "    <tr>\n",
              "      <th>4</th>\n",
              "      <td>Accounts</td>\n",
              "      <td>SocialWell</td>\n",
              "      <td>Bhubaneswar</td>\n",
              "      <td>6.0</td>\n",
              "      <td>6000.0</td>\n",
              "      <td>3 Feb' 22</td>\n",
              "      <td>Be an early applicant</td>\n",
              "      <td>1</td>\n",
              "      <td>0</td>\n",
              "      <td>1</td>\n",
              "      <td>In-Office</td>\n",
              "      <td>1</td>\n",
              "      <td>2</td>\n",
              "    </tr>\n",
              "  </tbody>\n",
              "</table>\n",
              "</div>\n",
              "      <button class=\"colab-df-convert\" onclick=\"convertToInteractive('df-c7eea70b-e849-4abe-8761-252c1815d33d')\"\n",
              "              title=\"Convert this dataframe to an interactive table.\"\n",
              "              style=\"display:none;\">\n",
              "        \n",
              "  <svg xmlns=\"http://www.w3.org/2000/svg\" height=\"24px\"viewBox=\"0 0 24 24\"\n",
              "       width=\"24px\">\n",
              "    <path d=\"M0 0h24v24H0V0z\" fill=\"none\"/>\n",
              "    <path d=\"M18.56 5.44l.94 2.06.94-2.06 2.06-.94-2.06-.94-.94-2.06-.94 2.06-2.06.94zm-11 1L8.5 8.5l.94-2.06 2.06-.94-2.06-.94L8.5 2.5l-.94 2.06-2.06.94zm10 10l.94 2.06.94-2.06 2.06-.94-2.06-.94-.94-2.06-.94 2.06-2.06.94z\"/><path d=\"M17.41 7.96l-1.37-1.37c-.4-.4-.92-.59-1.43-.59-.52 0-1.04.2-1.43.59L10.3 9.45l-7.72 7.72c-.78.78-.78 2.05 0 2.83L4 21.41c.39.39.9.59 1.41.59.51 0 1.02-.2 1.41-.59l7.78-7.78 2.81-2.81c.8-.78.8-2.07 0-2.86zM5.41 20L4 18.59l7.72-7.72 1.47 1.35L5.41 20z\"/>\n",
              "  </svg>\n",
              "      </button>\n",
              "      \n",
              "  <style>\n",
              "    .colab-df-container {\n",
              "      display:flex;\n",
              "      flex-wrap:wrap;\n",
              "      gap: 12px;\n",
              "    }\n",
              "\n",
              "    .colab-df-convert {\n",
              "      background-color: #E8F0FE;\n",
              "      border: none;\n",
              "      border-radius: 50%;\n",
              "      cursor: pointer;\n",
              "      display: none;\n",
              "      fill: #1967D2;\n",
              "      height: 32px;\n",
              "      padding: 0 0 0 0;\n",
              "      width: 32px;\n",
              "    }\n",
              "\n",
              "    .colab-df-convert:hover {\n",
              "      background-color: #E2EBFA;\n",
              "      box-shadow: 0px 1px 2px rgba(60, 64, 67, 0.3), 0px 1px 3px 1px rgba(60, 64, 67, 0.15);\n",
              "      fill: #174EA6;\n",
              "    }\n",
              "\n",
              "    [theme=dark] .colab-df-convert {\n",
              "      background-color: #3B4455;\n",
              "      fill: #D2E3FC;\n",
              "    }\n",
              "\n",
              "    [theme=dark] .colab-df-convert:hover {\n",
              "      background-color: #434B5C;\n",
              "      box-shadow: 0px 1px 3px 1px rgba(0, 0, 0, 0.15);\n",
              "      filter: drop-shadow(0px 1px 2px rgba(0, 0, 0, 0.3));\n",
              "      fill: #FFFFFF;\n",
              "    }\n",
              "  </style>\n",
              "\n",
              "      <script>\n",
              "        const buttonEl =\n",
              "          document.querySelector('#df-c7eea70b-e849-4abe-8761-252c1815d33d button.colab-df-convert');\n",
              "        buttonEl.style.display =\n",
              "          google.colab.kernel.accessAllowed ? 'block' : 'none';\n",
              "\n",
              "        async function convertToInteractive(key) {\n",
              "          const element = document.querySelector('#df-c7eea70b-e849-4abe-8761-252c1815d33d');\n",
              "          const dataTable =\n",
              "            await google.colab.kernel.invokeFunction('convertToInteractive',\n",
              "                                                     [key], {});\n",
              "          if (!dataTable) return;\n",
              "\n",
              "          const docLinkHtml = 'Like what you see? Visit the ' +\n",
              "            '<a target=\"_blank\" href=https://colab.research.google.com/notebooks/data_table.ipynb>data table notebook</a>'\n",
              "            + ' to learn more about interactive tables.';\n",
              "          element.innerHTML = '';\n",
              "          dataTable['output_type'] = 'display_data';\n",
              "          await google.colab.output.renderOutput(dataTable, element);\n",
              "          const docLink = document.createElement('div');\n",
              "          docLink.innerHTML = docLinkHtml;\n",
              "          element.appendChild(docLink);\n",
              "        }\n",
              "      </script>\n",
              "    </div>\n",
              "  </div>\n",
              "  "
            ],
            "text/plain": [
              "            Title  ... No. of Perks\n",
              "0        Accounts  ...            0\n",
              "1  Graphic Design  ...            6\n",
              "2  Graphic Design  ...            2\n",
              "3       Marketing  ...            5\n",
              "4        Accounts  ...            2\n",
              "\n",
              "[5 rows x 13 columns]"
            ]
          },
          "metadata": {},
          "execution_count": 20
        }
      ]
    },
    {
      "cell_type": "code",
      "source": [
        "data.info()"
      ],
      "metadata": {
        "colab": {
          "base_uri": "https://localhost:8080/"
        },
        "id": "aWY6w6G5UMEX",
        "outputId": "822ae3bd-6a22-4b3f-fb29-fcef32b7c79a"
      },
      "execution_count": 23,
      "outputs": [
        {
          "output_type": "stream",
          "name": "stdout",
          "text": [
            "<class 'pandas.core.frame.DataFrame'>\n",
            "RangeIndex: 8518 entries, 0 to 8517\n",
            "Data columns (total 13 columns):\n",
            " #   Column                 Non-Null Count  Dtype  \n",
            "---  ------                 --------------  -----  \n",
            " 0   Title                  8518 non-null   object \n",
            " 1   Company                8518 non-null   object \n",
            " 2   Location               8518 non-null   object \n",
            " 3   Duration               8518 non-null   float64\n",
            " 4   Stipend_per_month      8518 non-null   float64\n",
            " 5   Apply By               8518 non-null   object \n",
            " 6   Applicants             8518 non-null   object \n",
            " 7   Number of Openings     8518 non-null   int64  \n",
            " 8   Incentives             8518 non-null   int64  \n",
            " 9   Category               8518 non-null   int64  \n",
            " 10  Type of workplace      8518 non-null   object \n",
            " 11  No of skills required  8518 non-null   int64  \n",
            " 12  No. of Perks           8518 non-null   int64  \n",
            "dtypes: float64(2), int64(5), object(6)\n",
            "memory usage: 865.2+ KB\n"
          ]
        }
      ]
    },
    {
      "cell_type": "code",
      "source": [
        "data.describe(include='all')"
      ],
      "metadata": {
        "colab": {
          "base_uri": "https://localhost:8080/",
          "height": 528
        },
        "id": "adEFeRcgc68C",
        "outputId": "b0b07bb2-a978-452f-b541-96cfcff6286c"
      },
      "execution_count": 21,
      "outputs": [
        {
          "output_type": "execute_result",
          "data": {
            "text/html": [
              "\n",
              "  <div id=\"df-65da622d-1f63-489b-b04c-7597b4f55a5c\">\n",
              "    <div class=\"colab-df-container\">\n",
              "      <div>\n",
              "<style scoped>\n",
              "    .dataframe tbody tr th:only-of-type {\n",
              "        vertical-align: middle;\n",
              "    }\n",
              "\n",
              "    .dataframe tbody tr th {\n",
              "        vertical-align: top;\n",
              "    }\n",
              "\n",
              "    .dataframe thead th {\n",
              "        text-align: right;\n",
              "    }\n",
              "</style>\n",
              "<table border=\"1\" class=\"dataframe\">\n",
              "  <thead>\n",
              "    <tr style=\"text-align: right;\">\n",
              "      <th></th>\n",
              "      <th>Title</th>\n",
              "      <th>Company</th>\n",
              "      <th>Location</th>\n",
              "      <th>Duration</th>\n",
              "      <th>Stipend_per_month</th>\n",
              "      <th>Apply By</th>\n",
              "      <th>Applicants</th>\n",
              "      <th>Number of Openings</th>\n",
              "      <th>Incentives</th>\n",
              "      <th>Category</th>\n",
              "      <th>Type of workplace</th>\n",
              "      <th>No of skills required</th>\n",
              "      <th>No. of Perks</th>\n",
              "    </tr>\n",
              "  </thead>\n",
              "  <tbody>\n",
              "    <tr>\n",
              "      <th>count</th>\n",
              "      <td>8518</td>\n",
              "      <td>8518</td>\n",
              "      <td>8518</td>\n",
              "      <td>8518.000000</td>\n",
              "      <td>8518.000000</td>\n",
              "      <td>8518</td>\n",
              "      <td>8518</td>\n",
              "      <td>8518.000000</td>\n",
              "      <td>8518.000000</td>\n",
              "      <td>8518.000000</td>\n",
              "      <td>8518</td>\n",
              "      <td>8518.000000</td>\n",
              "      <td>8518.000000</td>\n",
              "    </tr>\n",
              "    <tr>\n",
              "      <th>unique</th>\n",
              "      <td>1247</td>\n",
              "      <td>5553</td>\n",
              "      <td>166</td>\n",
              "      <td>NaN</td>\n",
              "      <td>NaN</td>\n",
              "      <td>37</td>\n",
              "      <td>378</td>\n",
              "      <td>NaN</td>\n",
              "      <td>NaN</td>\n",
              "      <td>NaN</td>\n",
              "      <td>2</td>\n",
              "      <td>NaN</td>\n",
              "      <td>NaN</td>\n",
              "    </tr>\n",
              "    <tr>\n",
              "      <th>top</th>\n",
              "      <td>Content Writing</td>\n",
              "      <td>Relinns Technologies</td>\n",
              "      <td>Work From Home</td>\n",
              "      <td>NaN</td>\n",
              "      <td>NaN</td>\n",
              "      <td>11 Feb' 22</td>\n",
              "      <td>Be an early applicant</td>\n",
              "      <td>NaN</td>\n",
              "      <td>NaN</td>\n",
              "      <td>NaN</td>\n",
              "      <td>Work From Home</td>\n",
              "      <td>NaN</td>\n",
              "      <td>NaN</td>\n",
              "    </tr>\n",
              "    <tr>\n",
              "      <th>freq</th>\n",
              "      <td>922</td>\n",
              "      <td>52</td>\n",
              "      <td>4828</td>\n",
              "      <td>NaN</td>\n",
              "      <td>NaN</td>\n",
              "      <td>931</td>\n",
              "      <td>4597</td>\n",
              "      <td>NaN</td>\n",
              "      <td>NaN</td>\n",
              "      <td>NaN</td>\n",
              "      <td>4828</td>\n",
              "      <td>NaN</td>\n",
              "      <td>NaN</td>\n",
              "    </tr>\n",
              "    <tr>\n",
              "      <th>mean</th>\n",
              "      <td>NaN</td>\n",
              "      <td>NaN</td>\n",
              "      <td>NaN</td>\n",
              "      <td>3.611793</td>\n",
              "      <td>6124.351458</td>\n",
              "      <td>NaN</td>\n",
              "      <td>NaN</td>\n",
              "      <td>6.551773</td>\n",
              "      <td>0.094975</td>\n",
              "      <td>6.426274</td>\n",
              "      <td>NaN</td>\n",
              "      <td>2.915004</td>\n",
              "      <td>2.949401</td>\n",
              "    </tr>\n",
              "    <tr>\n",
              "      <th>std</th>\n",
              "      <td>NaN</td>\n",
              "      <td>NaN</td>\n",
              "      <td>NaN</td>\n",
              "      <td>1.947216</td>\n",
              "      <td>4846.944389</td>\n",
              "      <td>NaN</td>\n",
              "      <td>NaN</td>\n",
              "      <td>83.123584</td>\n",
              "      <td>0.293198</td>\n",
              "      <td>3.594531</td>\n",
              "      <td>NaN</td>\n",
              "      <td>2.702641</td>\n",
              "      <td>1.393943</td>\n",
              "    </tr>\n",
              "    <tr>\n",
              "      <th>min</th>\n",
              "      <td>NaN</td>\n",
              "      <td>NaN</td>\n",
              "      <td>NaN</td>\n",
              "      <td>0.250000</td>\n",
              "      <td>0.000000</td>\n",
              "      <td>NaN</td>\n",
              "      <td>NaN</td>\n",
              "      <td>1.000000</td>\n",
              "      <td>0.000000</td>\n",
              "      <td>0.000000</td>\n",
              "      <td>NaN</td>\n",
              "      <td>0.000000</td>\n",
              "      <td>0.000000</td>\n",
              "    </tr>\n",
              "    <tr>\n",
              "      <th>25%</th>\n",
              "      <td>NaN</td>\n",
              "      <td>NaN</td>\n",
              "      <td>NaN</td>\n",
              "      <td>2.000000</td>\n",
              "      <td>3000.000000</td>\n",
              "      <td>NaN</td>\n",
              "      <td>NaN</td>\n",
              "      <td>1.000000</td>\n",
              "      <td>0.000000</td>\n",
              "      <td>3.000000</td>\n",
              "      <td>NaN</td>\n",
              "      <td>1.000000</td>\n",
              "      <td>2.000000</td>\n",
              "    </tr>\n",
              "    <tr>\n",
              "      <th>50%</th>\n",
              "      <td>NaN</td>\n",
              "      <td>NaN</td>\n",
              "      <td>NaN</td>\n",
              "      <td>3.000000</td>\n",
              "      <td>5000.000000</td>\n",
              "      <td>NaN</td>\n",
              "      <td>NaN</td>\n",
              "      <td>2.000000</td>\n",
              "      <td>0.000000</td>\n",
              "      <td>7.000000</td>\n",
              "      <td>NaN</td>\n",
              "      <td>2.000000</td>\n",
              "      <td>3.000000</td>\n",
              "    </tr>\n",
              "    <tr>\n",
              "      <th>75%</th>\n",
              "      <td>NaN</td>\n",
              "      <td>NaN</td>\n",
              "      <td>NaN</td>\n",
              "      <td>6.000000</td>\n",
              "      <td>8000.000000</td>\n",
              "      <td>NaN</td>\n",
              "      <td>NaN</td>\n",
              "      <td>5.000000</td>\n",
              "      <td>0.000000</td>\n",
              "      <td>10.000000</td>\n",
              "      <td>NaN</td>\n",
              "      <td>4.000000</td>\n",
              "      <td>4.000000</td>\n",
              "    </tr>\n",
              "    <tr>\n",
              "      <th>max</th>\n",
              "      <td>NaN</td>\n",
              "      <td>NaN</td>\n",
              "      <td>NaN</td>\n",
              "      <td>36.000000</td>\n",
              "      <td>50000.000000</td>\n",
              "      <td>NaN</td>\n",
              "      <td>NaN</td>\n",
              "      <td>5000.000000</td>\n",
              "      <td>1.000000</td>\n",
              "      <td>13.000000</td>\n",
              "      <td>NaN</td>\n",
              "      <td>20.000000</td>\n",
              "      <td>7.000000</td>\n",
              "    </tr>\n",
              "  </tbody>\n",
              "</table>\n",
              "</div>\n",
              "      <button class=\"colab-df-convert\" onclick=\"convertToInteractive('df-65da622d-1f63-489b-b04c-7597b4f55a5c')\"\n",
              "              title=\"Convert this dataframe to an interactive table.\"\n",
              "              style=\"display:none;\">\n",
              "        \n",
              "  <svg xmlns=\"http://www.w3.org/2000/svg\" height=\"24px\"viewBox=\"0 0 24 24\"\n",
              "       width=\"24px\">\n",
              "    <path d=\"M0 0h24v24H0V0z\" fill=\"none\"/>\n",
              "    <path d=\"M18.56 5.44l.94 2.06.94-2.06 2.06-.94-2.06-.94-.94-2.06-.94 2.06-2.06.94zm-11 1L8.5 8.5l.94-2.06 2.06-.94-2.06-.94L8.5 2.5l-.94 2.06-2.06.94zm10 10l.94 2.06.94-2.06 2.06-.94-2.06-.94-.94-2.06-.94 2.06-2.06.94z\"/><path d=\"M17.41 7.96l-1.37-1.37c-.4-.4-.92-.59-1.43-.59-.52 0-1.04.2-1.43.59L10.3 9.45l-7.72 7.72c-.78.78-.78 2.05 0 2.83L4 21.41c.39.39.9.59 1.41.59.51 0 1.02-.2 1.41-.59l7.78-7.78 2.81-2.81c.8-.78.8-2.07 0-2.86zM5.41 20L4 18.59l7.72-7.72 1.47 1.35L5.41 20z\"/>\n",
              "  </svg>\n",
              "      </button>\n",
              "      \n",
              "  <style>\n",
              "    .colab-df-container {\n",
              "      display:flex;\n",
              "      flex-wrap:wrap;\n",
              "      gap: 12px;\n",
              "    }\n",
              "\n",
              "    .colab-df-convert {\n",
              "      background-color: #E8F0FE;\n",
              "      border: none;\n",
              "      border-radius: 50%;\n",
              "      cursor: pointer;\n",
              "      display: none;\n",
              "      fill: #1967D2;\n",
              "      height: 32px;\n",
              "      padding: 0 0 0 0;\n",
              "      width: 32px;\n",
              "    }\n",
              "\n",
              "    .colab-df-convert:hover {\n",
              "      background-color: #E2EBFA;\n",
              "      box-shadow: 0px 1px 2px rgba(60, 64, 67, 0.3), 0px 1px 3px 1px rgba(60, 64, 67, 0.15);\n",
              "      fill: #174EA6;\n",
              "    }\n",
              "\n",
              "    [theme=dark] .colab-df-convert {\n",
              "      background-color: #3B4455;\n",
              "      fill: #D2E3FC;\n",
              "    }\n",
              "\n",
              "    [theme=dark] .colab-df-convert:hover {\n",
              "      background-color: #434B5C;\n",
              "      box-shadow: 0px 1px 3px 1px rgba(0, 0, 0, 0.15);\n",
              "      filter: drop-shadow(0px 1px 2px rgba(0, 0, 0, 0.3));\n",
              "      fill: #FFFFFF;\n",
              "    }\n",
              "  </style>\n",
              "\n",
              "      <script>\n",
              "        const buttonEl =\n",
              "          document.querySelector('#df-65da622d-1f63-489b-b04c-7597b4f55a5c button.colab-df-convert');\n",
              "        buttonEl.style.display =\n",
              "          google.colab.kernel.accessAllowed ? 'block' : 'none';\n",
              "\n",
              "        async function convertToInteractive(key) {\n",
              "          const element = document.querySelector('#df-65da622d-1f63-489b-b04c-7597b4f55a5c');\n",
              "          const dataTable =\n",
              "            await google.colab.kernel.invokeFunction('convertToInteractive',\n",
              "                                                     [key], {});\n",
              "          if (!dataTable) return;\n",
              "\n",
              "          const docLinkHtml = 'Like what you see? Visit the ' +\n",
              "            '<a target=\"_blank\" href=https://colab.research.google.com/notebooks/data_table.ipynb>data table notebook</a>'\n",
              "            + ' to learn more about interactive tables.';\n",
              "          element.innerHTML = '';\n",
              "          dataTable['output_type'] = 'display_data';\n",
              "          await google.colab.output.renderOutput(dataTable, element);\n",
              "          const docLink = document.createElement('div');\n",
              "          docLink.innerHTML = docLinkHtml;\n",
              "          element.appendChild(docLink);\n",
              "        }\n",
              "      </script>\n",
              "    </div>\n",
              "  </div>\n",
              "  "
            ],
            "text/plain": [
              "                  Title  ... No. of Perks\n",
              "count              8518  ...  8518.000000\n",
              "unique             1247  ...          NaN\n",
              "top     Content Writing  ...          NaN\n",
              "freq                922  ...          NaN\n",
              "mean                NaN  ...     2.949401\n",
              "std                 NaN  ...     1.393943\n",
              "min                 NaN  ...     0.000000\n",
              "25%                 NaN  ...     2.000000\n",
              "50%                 NaN  ...     3.000000\n",
              "75%                 NaN  ...     4.000000\n",
              "max                 NaN  ...     7.000000\n",
              "\n",
              "[11 rows x 13 columns]"
            ]
          },
          "metadata": {},
          "execution_count": 21
        }
      ]
    },
    {
      "cell_type": "code",
      "source": [
        "data_features = ['Duration','Stipend_per_month','No of skills required','No. of Perks']\n",
        "data_label = 'Category'\n",
        "for col in data_features:\n",
        "  data.boxplot(column=col , by = data_label,figsize=(12,10))"
      ],
      "metadata": {
        "colab": {
          "base_uri": "https://localhost:8080/",
          "height": 1000
        },
        "id": "FsJ6zeOA1WaX",
        "outputId": "07ccc538-0bc4-4b76-ec65-717c9bcb1e46"
      },
      "execution_count": 22,
      "outputs": [
        {
          "output_type": "stream",
          "name": "stderr",
          "text": [
            "/usr/local/lib/python3.7/dist-packages/matplotlib/cbook/__init__.py:1376: VisibleDeprecationWarning: Creating an ndarray from ragged nested sequences (which is a list-or-tuple of lists-or-tuples-or ndarrays with different lengths or shapes) is deprecated. If you meant to do this, you must specify 'dtype=object' when creating the ndarray.\n",
            "  X = np.atleast_1d(X.T if isinstance(X, np.ndarray) else np.asarray(X))\n",
            "/usr/local/lib/python3.7/dist-packages/matplotlib/cbook/__init__.py:1376: VisibleDeprecationWarning: Creating an ndarray from ragged nested sequences (which is a list-or-tuple of lists-or-tuples-or ndarrays with different lengths or shapes) is deprecated. If you meant to do this, you must specify 'dtype=object' when creating the ndarray.\n",
            "  X = np.atleast_1d(X.T if isinstance(X, np.ndarray) else np.asarray(X))\n",
            "/usr/local/lib/python3.7/dist-packages/matplotlib/cbook/__init__.py:1376: VisibleDeprecationWarning: Creating an ndarray from ragged nested sequences (which is a list-or-tuple of lists-or-tuples-or ndarrays with different lengths or shapes) is deprecated. If you meant to do this, you must specify 'dtype=object' when creating the ndarray.\n",
            "  X = np.atleast_1d(X.T if isinstance(X, np.ndarray) else np.asarray(X))\n",
            "/usr/local/lib/python3.7/dist-packages/matplotlib/cbook/__init__.py:1376: VisibleDeprecationWarning: Creating an ndarray from ragged nested sequences (which is a list-or-tuple of lists-or-tuples-or ndarrays with different lengths or shapes) is deprecated. If you meant to do this, you must specify 'dtype=object' when creating the ndarray.\n",
            "  X = np.atleast_1d(X.T if isinstance(X, np.ndarray) else np.asarray(X))\n"
          ]
        },
        {
          "output_type": "display_data",
          "data": {
            "image/png": "[encoded data removed]",
            "text/plain": [
              "<Figure size 864x720 with 1 Axes>"
            ]
          },
          "metadata": {
            "needs_background": "light"
          }
        },
        {
          "output_type": "display_data",
          "data": {
            "image/png": "[encoded data removed]",
            "text/plain": [
              "<Figure size 864x720 with 1 Axes>"
            ]
          },
          "metadata": {
            "needs_background": "light"
          }
        },
        {
          "output_type": "display_data",
          "data": {
            "image/png": "[encoded data removed]",
            "text/plain": [
              "<Figure size 864x720 with 1 Axes>"
            ]
          },
          "metadata": {
            "needs_background": "light"
          }
        },
        {
          "output_type": "display_data",
          "data": {
            "image/png": "[encoded data removed]",
            "text/plain": [
              "<Figure size 864x720 with 1 Axes>"
            ]
          },
          "metadata": {
            "needs_background": "light"
          }
        }
      ]
    },
    {
      "cell_type": "code",
      "source": [
        "fig , ax = plt.subplots(figsize=(12,12))\n",
        "sns.heatmap(data.corr(),cmap='YlGnBu',annot=True)"
      ],
      "metadata": {
        "colab": {
          "base_uri": "https://localhost:8080/",
          "height": 698
        },
        "id": "2ZkXT7LTOF1N",
        "outputId": "6afe22f1-5415-4893-8d6c-d4a9d07ee9c7"
      },
      "execution_count": 25,
      "outputs": [
        {
          "output_type": "execute_result",
          "data": {
            "text/plain": [
              "<matplotlib.axes._subplots.AxesSubplot at 0x7fea46b48490>"
            ]
          },
          "metadata": {},
          "execution_count": 25
        },
        {
          "output_type": "display_data",
          "data": {
            "image/png": "[encoded data removed]",
            "text/plain": [
              "<Figure size 864x864 with 2 Axes>"
            ]
          },
          "metadata": {
            "needs_background": "light"
          }
        }
      ]
    },
    {
      "cell_type": "code",
      "source": [
        ""
      ],
      "metadata": {
        "id": "Br5H_tlhOlzi"
      },
      "execution_count": 22,
      "outputs": []
    }
  ]
}